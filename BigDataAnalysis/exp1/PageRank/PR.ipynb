{
 "cells": [
  {
   "cell_type": "code",
   "execution_count": 24,
   "metadata": {
    "collapsed": true,
    "pycharm": {
     "name": "#%%\n"
    }
   },
   "outputs": [],
   "source": [
    "import numpy as np\n",
    "import networkx as nx\n",
    "import csv\n",
    "import os\n",
    "\n",
    "\n",
    "def normalize_col_mat(adj_mat=np.zeros_like(0, dtype=float)):\n",
    "    for j in range(adj_mat.shape[0]):\n",
    "        col_sum = float(sum(adj_mat[:,j]))\n",
    "        if col_sum == 0:\n",
    "            continue\n",
    "        for i in range(adj_mat.shape[0]):\n",
    "            adj_mat[i,j] = adj_mat[i,j] / col_sum\n",
    "\n",
    "\n",
    "def normalize_vec(vec=np.array(0, dtype=float)):\n",
    "    total = float(sum(vec))\n",
    "    for i in range(vec.shape[0]):\n",
    "        vec[i] = vec[i] * 1.0 / total\n",
    "\n",
    "\n",
    "# create graph\n",
    "G = nx.DiGraph()\n",
    "with open(\"D:\\Documents\\course\\junior\\BigDataAna\\exp1\\PageRank\\sent_receive.csv\", \"r\") as f:\n",
    "    data = csv.reader(f)\n",
    "    next(data)\n",
    "    for item in data:\n",
    "        G.add_edge(int(item[1]), int(item[2]))\n",
    "\n",
    "# relabel node\n",
    "new_index = 0\n",
    "mapper = {}\n",
    "for index in sorted(G.nodes):\n",
    "    mapper[index] = new_index\n",
    "    new_index += 1\n",
    "G = nx.relabel_nodes(G, mapper)\n",
    "\n",
    "# create matrix\n",
    "adj = np.array(nx.adjacency_matrix(G).toarray(), dtype=float)\n",
    "normalize_col_mat(adj)\n",
    "tel_vec = np.zeros_like(adj.shape[0],dtype=float)\n",
    "tel_vec = tel_vec + 1.0 / adj.shape[0]\n"
   ]
  },
  {
   "cell_type": "code",
   "execution_count": 27,
   "outputs": [
    {
     "name": "stdout",
     "output_type": "stream",
     "text": [
      "0.9999999999999974\n"
     ]
    }
   ],
   "source": [
    "r_old = np.zeros(adj.shape[0])\n",
    "r_old = r_old + (1.0 / adj.shape[0])"
   ],
   "metadata": {
    "collapsed": false,
    "pycharm": {
     "name": "#%%\n"
    }
   }
  },
  {
   "cell_type": "code",
   "execution_count": null,
   "outputs": [],
   "source": [
    "e = 1\n",
    "beta = 0.85\n",
    "k = 0\n",
    "while e > 0.000000001:\n",
    "    r_new = beta * np.matmul(adj, r_old) + (1-beta)*tel_vec\n",
    "    # normalize_vec(r_new)\n",
    "    e = sum(abs(r_new - r_old))\n",
    "    r_old = r_new\n",
    "    k += 1\n",
    "    print(\"iteration:{} error:{}\".format(k, e))\n",
    "\n",
    "print(\"PageRank End!\")\n",
    "with open(\"result.txt\", \"w\") as f:\n",
    "    for index in range(len(r_old)):\n",
    "        f.write(\"node {} PR:{}\\n\".format(index, r_old[index]))\n"
   ],
   "metadata": {
    "collapsed": false,
    "pycharm": {
     "name": "#%%\n"
    }
   }
  }
 ],
 "metadata": {
  "kernelspec": {
   "name": "conda-env-pytorch-py",
   "language": "python",
   "display_name": "Python [conda env:pytorch]"
  },
  "language_info": {
   "codemirror_mode": {
    "name": "ipython",
    "version": 2
   },
   "file_extension": ".py",
   "mimetype": "text/x-python",
   "name": "python",
   "nbconvert_exporter": "python",
   "pygments_lexer": "ipython2",
   "version": "2.7.6"
  }
 },
 "nbformat": 4,
 "nbformat_minor": 0
}