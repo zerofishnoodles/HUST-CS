{
 "cells": [
  {
   "cell_type": "code",
   "execution_count": 1,
   "metadata": {
    "collapsed": true
   },
   "outputs": [
    {
     "name": "stdout",
     "output_type": "stream",
     "text": [
      "<class 'pandas.core.frame.DataFrame'>\n",
      "RangeIndex: 99904 entries, 0 to 99903\n",
      "Data columns (total 4 columns):\n",
      " #   Column     Non-Null Count  Dtype  \n",
      "---  ------     --------------  -----  \n",
      " 0   userId     99904 non-null  int64  \n",
      " 1   movieId    99904 non-null  int64  \n",
      " 2   rating     99904 non-null  float64\n",
      " 3   timestamp  99904 non-null  int64  \n",
      "dtypes: float64(1), int64(3)\n",
      "memory usage: 3.0 MB\n",
      "<class 'pandas.core.frame.DataFrame'>\n",
      "RangeIndex: 99904 entries, 0 to 99903\n",
      "Data columns (total 3 columns):\n",
      " #   Column   Non-Null Count  Dtype  \n",
      "---  ------   --------------  -----  \n",
      " 0   userId   99904 non-null  int64  \n",
      " 1   movieId  99904 non-null  int64  \n",
      " 2   rating   99904 non-null  float64\n",
      "dtypes: float64(1), int64(2)\n",
      "memory usage: 2.3 MB\n"
     ]
    },
    {
     "data": {
      "text/plain": "       userId  movieId  rating\n99899     671     6268     2.5\n99900     671     6269     4.0\n99901     671     6365     4.0\n99902     671     6385     2.5\n99903     671     6565     3.5",
      "text/html": "<div>\n<style scoped>\n    .dataframe tbody tr th:only-of-type {\n        vertical-align: middle;\n    }\n\n    .dataframe tbody tr th {\n        vertical-align: top;\n    }\n\n    .dataframe thead th {\n        text-align: right;\n    }\n</style>\n<table border=\"1\" class=\"dataframe\">\n  <thead>\n    <tr style=\"text-align: right;\">\n      <th></th>\n      <th>userId</th>\n      <th>movieId</th>\n      <th>rating</th>\n    </tr>\n  </thead>\n  <tbody>\n    <tr>\n      <th>99899</th>\n      <td>671</td>\n      <td>6268</td>\n      <td>2.5</td>\n    </tr>\n    <tr>\n      <th>99900</th>\n      <td>671</td>\n      <td>6269</td>\n      <td>4.0</td>\n    </tr>\n    <tr>\n      <th>99901</th>\n      <td>671</td>\n      <td>6365</td>\n      <td>4.0</td>\n    </tr>\n    <tr>\n      <th>99902</th>\n      <td>671</td>\n      <td>6385</td>\n      <td>2.5</td>\n    </tr>\n    <tr>\n      <th>99903</th>\n      <td>671</td>\n      <td>6565</td>\n      <td>3.5</td>\n    </tr>\n  </tbody>\n</table>\n</div>"
     },
     "execution_count": 1,
     "metadata": {},
     "output_type": "execute_result"
    }
   ],
   "source": [
    "import numpy as np\n",
    "import os\n",
    "import pandas as pd\n",
    "\n",
    "work_dir = r'D:\\Documents\\course\\junior\\BigDataAna\\12-20大作业'\n",
    "dataset_dir = work_dir+r'\\datasets'+'\\\\'\n",
    "# print(dataset_dir)\n",
    "\n",
    "# 获取数据集\n",
    "train_data = pd.read_csv(dataset_dir+'train_set.csv')\n",
    "train_data.info()\n",
    "train_data.drop('timestamp', axis=1, inplace=True)\n",
    "train_data.info()\n",
    "train_data.tail()"
   ]
  },
  {
   "cell_type": "code",
   "execution_count": 7,
   "outputs": [],
   "source": [
    "# 构建matrix\n",
    "minihash = True\n",
    "proj_func_num = 1000\n",
    "mat = train_data.pivot_table(index=['userId'], columns=['movieId'], values=['rating'])\n",
    "mat.fillna(0,inplace=True)\n",
    "util_mat = np.array(mat.values)\n",
    "movie_id2index = {mat.columns[i][1]:i for i in range(util_mat.shape[1])}\n",
    "user_num = util_mat.shape[0]\n",
    "movie_num = util_mat.shape[1]\n"
   ],
   "metadata": {
    "collapsed": false,
    "pycharm": {
     "name": "#%%\n"
    }
   }
  },
  {
   "cell_type": "code",
   "execution_count": 8,
   "outputs": [
    {
     "name": "stdout",
     "output_type": "stream",
     "text": [
      "use time(s): 151.75450205802917\n"
     ]
    }
   ],
   "source": [
    "# 构建sim mat\n",
    "from time import time\n",
    "start_time = time()\n",
    "if minihash:\n",
    "    mini_mat = np.array(util_mat)\n",
    "    mini_mat[util_mat>=3.0] = 1\n",
    "    mini_mat[util_mat<3.0] = 0\n",
    "    # 构建哈希签名矩阵\n",
    "    sig_mat = np.zeros((proj_func_num, user_num)) # 有个问题 用户对所有电影评分都小于3时，数组为全0， 没有第一个为1的位置,是否算其为相似\n",
    "    for i in range(proj_func_num):\n",
    "        pai = [j for j in range(movie_num)]\n",
    "        np.random.shuffle(pai)\n",
    "        pai_index = np.argsort(pai)\n",
    "        for j in range(user_num):\n",
    "            for index in pai_index:\n",
    "                if mini_mat[j, pai[index]] == 1:\n",
    "                    sig_mat[i, j] = pai[index]\n",
    "                    break\n",
    "\n",
    "\n",
    "    # 计算jiccard相似度\n",
    "    sig_mat = sig_mat.T # 用行来算比较快\n",
    "    sim_mat = np.eye(user_num)\n",
    "    for i in range(user_num):\n",
    "        for j in range(i+1, user_num):\n",
    "            sim_mat[i,j] = len([sig_mat[i,k] == sig_mat[j, k] for k in range(proj_func_num)]) / proj_func_num\n",
    "\n",
    "\n",
    "else:\n",
    "    sim_mat = np.corrcoef(util_mat)\n",
    "    sim_mat[sim_mat<0] = 0\n",
    "end_time = time()\n",
    "print(\"use time(s):\", end_time-start_time)"
   ],
   "metadata": {
    "collapsed": false,
    "pycharm": {
     "name": "#%%\n"
    }
   }
  },
  {
   "cell_type": "code",
   "execution_count": 9,
   "outputs": [
    {
     "name": "stderr",
     "output_type": "stream",
     "text": [
      "D:\\Programs\\Anaconda\\envs\\pytorch\\lib\\site-packages\\ipykernel_launcher.py:36: RuntimeWarning: invalid value encountered in double_scalars\n"
     ]
    },
    {
     "data": {
      "text/plain": "[127728, 3129, 2252, 100553, 4190]"
     },
     "execution_count": 9,
     "metadata": {},
     "output_type": "execute_result"
    }
   ],
   "source": [
    "K = 10\n",
    "n = 5\n",
    "def recommender(mode, userId, util_mat, sim_mat):\n",
    "    userId = userId-1  # userID 从1开始，矩阵从0开始\n",
    "    user_num = util_mat.shape[0]\n",
    "    movie_num = util_mat.shape[1]\n",
    "    if mode == 1: # 1为top k推荐 0为预测评分\n",
    "        user_rate = np.zeros(util_mat.shape[1])\n",
    "    else:\n",
    "        user_rate = np.copy(util_mat[userId])\n",
    "\n",
    "\n",
    "    sort_sim_index = np.argsort(sim_mat[userId])[::-1]\n",
    "    for cur_movie in range(util_mat.shape[1]):\n",
    "        if util_mat[userId, cur_movie] == 0:\n",
    "            total = 0\n",
    "            pred = 0\n",
    "            rec_num = 0\n",
    "            for another_user in sort_sim_index:\n",
    "                another_user_rate = util_mat[another_user, cur_movie]\n",
    "                if another_user_rate != 0 and rec_num < K:\n",
    "                    pred += sim_mat[userId, another_user]*another_user_rate\n",
    "                    total += sim_mat[userId, another_user]\n",
    "                    rec_num += 1\n",
    "                    # if cur_movie == 3303:\n",
    "                    #     print('pred',pred)\n",
    "                    #     print('total',total)\n",
    "                    #     print('cur_movie:', cur_movie)\n",
    "                    #     print('another user rate:', another_user_rate)\n",
    "                    #     print('sim:', sim_mat[userId, another_user])\n",
    "            # if cur_movie == 3303:\n",
    "            #     print('pred',pred)\n",
    "            #     print('total',total)\n",
    "            #     print('rate', pred/total)\n",
    "            #     print('cur_movie:', cur_movie)\n",
    "            user_rate[cur_movie] = pred/total\n",
    "\n",
    "    if mode == 0:\n",
    "        return user_rate\n",
    "    else:\n",
    "        user_rate[np.isnan(user_rate)] = 0\n",
    "        rec_index = np.argsort(user_rate)[-n:]\n",
    "        # print(user_rate[rec_index])\n",
    "        movie_id_list = list(mat.columns)\n",
    "        rec = [movie_id_list[i][1] for i in rec_index]\n",
    "        return rec\n",
    "\n",
    "\n",
    "\n",
    "\n",
    "recommender(1, 600,util_mat, sim_mat)"
   ],
   "metadata": {
    "collapsed": false,
    "pycharm": {
     "name": "#%%\n"
    }
   }
  },
  {
   "cell_type": "code",
   "execution_count": 10,
   "outputs": [
    {
     "name": "stdout",
     "output_type": "stream",
     "text": [
      "<class 'pandas.core.frame.DataFrame'>\n",
      "RangeIndex: 100 entries, 0 to 99\n",
      "Data columns (total 3 columns):\n",
      " #   Column   Non-Null Count  Dtype  \n",
      "---  ------   --------------  -----  \n",
      " 0   userId   100 non-null    int64  \n",
      " 1   movieId  100 non-null    int64  \n",
      " 2   rating   100 non-null    float64\n",
      "dtypes: float64(1), int64(2)\n",
      "memory usage: 2.5 KB\n"
     ]
    }
   ],
   "source": [
    "# 读取测试集\n",
    "test = pd.read_csv(dataset_dir+'test_set.csv')\n",
    "test.drop('timestamp', axis=1, inplace=True)\n",
    "users, movies, ratings = test['userId'], test['movieId'], test['rating']\n",
    "test.info()"
   ],
   "metadata": {
    "collapsed": false,
    "pycharm": {
     "name": "#%%\n"
    }
   }
  },
  {
   "cell_type": "code",
   "execution_count": 11,
   "outputs": [
    {
     "name": "stdout",
     "output_type": "stream",
     "text": [
      "1/100...\n",
      "2/100...\n",
      "3/100...\n",
      "4/100...\n",
      "5/100...\n",
      "6/100...\n",
      "7/100...\n",
      "8/100...\n",
      "9/100...\n",
      "10/100...\n",
      "11/100...\n",
      "12/100...\n",
      "13/100...\n",
      "14/100...\n",
      "15/100...\n",
      "16/100...\n",
      "17/100...\n",
      "18/100...\n",
      "19/100...\n",
      "20/100...\n",
      "21/100...\n",
      "22/100...\n",
      "23/100...\n",
      "24/100...\n",
      "25/100...\n",
      "26/100...\n",
      "27/100...\n",
      "28/100...\n",
      "29/100...\n",
      "30/100...\n",
      "31/100...\n",
      "32/100...\n",
      "33/100...\n",
      "34/100...\n",
      "35/100...\n",
      "36/100...\n",
      "37/100...\n",
      "38/100...\n",
      "39/100...\n",
      "40/100...\n",
      "41/100...\n",
      "42/100...\n",
      "43/100...\n",
      "44/100...\n",
      "45/100...\n",
      "46/100...\n",
      "47/100...\n",
      "48/100...\n",
      "49/100...\n",
      "50/100...\n",
      "51/100...\n",
      "52/100...\n",
      "53/100...\n",
      "54/100...\n",
      "55/100...\n",
      "56/100...\n",
      "57/100...\n",
      "58/100...\n",
      "59/100...\n",
      "60/100...\n",
      "61/100...\n",
      "62/100...\n",
      "63/100...\n",
      "64/100...\n",
      "65/100...\n",
      "66/100...\n",
      "67/100...\n",
      "68/100...\n",
      "69/100...\n",
      "70/100...\n",
      "71/100...\n",
      "72/100...\n",
      "73/100...\n",
      "74/100...\n",
      "75/100...\n",
      "76/100...\n",
      "77/100...\n",
      "78/100...\n",
      "79/100...\n",
      "80/100...\n",
      "81/100...\n",
      "82/100...\n",
      "83/100...\n",
      "84/100...\n",
      "85/100...\n",
      "86/100...\n",
      "87/100...\n",
      "88/100...\n",
      "89/100...\n",
      "90/100...\n",
      "91/100...\n",
      "92/100...\n",
      "93/100...\n",
      "94/100...\n",
      "95/100...\n",
      "96/100...\n",
      "97/100...\n",
      "98/100...\n",
      "99/100...\n",
      "100/100...\n",
      "use: 171.47321391105652\n"
     ]
    },
    {
     "name": "stderr",
     "output_type": "stream",
     "text": [
      "D:\\Programs\\Anaconda\\envs\\pytorch\\lib\\site-packages\\ipykernel_launcher.py:36: RuntimeWarning: invalid value encountered in double_scalars\n"
     ]
    },
    {
     "data": {
      "text/plain": "90.69321180555556"
     },
     "execution_count": 11,
     "metadata": {},
     "output_type": "execute_result"
    }
   ],
   "source": [
    "from time import time\n",
    "# 开始预测\n",
    "start_time = time()\n",
    "preds = []\n",
    "pred_cache = {}\n",
    "for i in range(len(test)):\n",
    "    print('%d/%d...' % (i+1, len(test)))\n",
    "    if users[i] not in pred_cache.keys():\n",
    "        rates = recommender(0, users[i], util_mat, sim_mat)\n",
    "        preds.append(rates[movie_id2index[movies[i]]])\n",
    "        pred_cache[users[i]] = rates\n",
    "    else:\n",
    "        rates = pred_cache[users[i]]\n",
    "        preds.append(rates[movie_id2index[movies[i]]])\n",
    "\n",
    "SSE = np.sum(np.square(preds - ratings))\n",
    "end_time = time()\n",
    "print(\"use:\", end_time-start_time)\n",
    "\n",
    "SSE"
   ],
   "metadata": {
    "collapsed": false,
    "pycharm": {
     "name": "#%%\n"
    }
   }
  },
  {
   "cell_type": "code",
   "execution_count": 2,
   "outputs": [
    {
     "name": "stdout",
     "output_type": "stream",
     "text": [
      "[ 2  5  1  7 10  8  3  6  9  4]\n",
      "[ 7 10  3  9  6  8  2  5  1  4]\n",
      "[ 6  5  3  2  9  4  7  1  8 10]\n",
      "[ 7 10  8  3  6  4  2  1  9  5]\n",
      "[ 1  9  4  2  7  3  5 10  8  6]\n",
      "[ 1  9  4  6  2  8  3  5 10  7]\n",
      "[ 5 10  8  2  6  7  1  3  4  9]\n",
      "[ 3  9  7  8  5  2  4  6 10  1]\n",
      "[ 9  4  5  8  6  3  1  2  7 10]\n",
      "[ 2  5  3  9  4 10  8  7  1  6]\n"
     ]
    }
   ],
   "source": [
    "import numpy as np\n",
    "from scipy.spatial.distance import pdist,squareform\n",
    "a = np.array([1,2,3,4,5,6,7,8,9,10])\n",
    "for i in range(10):\n",
    "    np.random.shuffle(a)\n",
    "    print(a)"
   ],
   "metadata": {
    "collapsed": false,
    "pycharm": {
     "name": "#%%\n"
    }
   }
  },
  {
   "cell_type": "code",
   "execution_count": null,
   "outputs": [],
   "source": [],
   "metadata": {
    "collapsed": false,
    "pycharm": {
     "name": "#%%\n"
    }
   }
  }
 ],
 "metadata": {
  "kernelspec": {
   "name": "conda-env-pytorch-py",
   "language": "python",
   "display_name": "Python [conda env:pytorch]"
  },
  "language_info": {
   "codemirror_mode": {
    "name": "ipython",
    "version": 2
   },
   "file_extension": ".py",
   "mimetype": "text/x-python",
   "name": "python",
   "nbconvert_exporter": "python",
   "pygments_lexer": "ipython2",
   "version": "2.7.6"
  }
 },
 "nbformat": 4,
 "nbformat_minor": 0
}