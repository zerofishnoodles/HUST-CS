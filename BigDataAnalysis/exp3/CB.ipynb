{
 "cells": [
  {
   "cell_type": "code",
   "execution_count": 1,
   "metadata": {
    "collapsed": true
   },
   "outputs": [
    {
     "name": "stdout",
     "output_type": "stream",
     "text": [
      "<class 'pandas.core.frame.DataFrame'>\n",
      "RangeIndex: 9125 entries, 0 to 9124\n",
      "Data columns (total 3 columns):\n",
      " #   Column   Non-Null Count  Dtype \n",
      "---  ------   --------------  ----- \n",
      " 0   movieId  9125 non-null   int64 \n",
      " 1   title    9125 non-null   object\n",
      " 2   genres   9125 non-null   object\n",
      "dtypes: int64(1), object(2)\n",
      "memory usage: 214.0+ KB\n",
      "   movieId                               title  \\\n",
      "0        1                    Toy Story (1995)   \n",
      "1        2                      Jumanji (1995)   \n",
      "2        3             Grumpier Old Men (1995)   \n",
      "3        4            Waiting to Exhale (1995)   \n",
      "4        5  Father of the Bride Part II (1995)   \n",
      "\n",
      "                                        genres  \n",
      "0  Adventure|Animation|Children|Comedy|Fantasy  \n",
      "1                   Adventure|Children|Fantasy  \n",
      "2                               Comedy|Romance  \n",
      "3                         Comedy|Drama|Romance  \n",
      "4                                       Comedy  \n"
     ]
    }
   ],
   "source": [
    "import numpy as np\n",
    "import os\n",
    "import pandas as pd\n",
    "from sklearn.feature_extraction.text import TfidfVectorizer, CountVectorizer\n",
    "from sklearn.metrics.pairwise import cosine_similarity\n",
    "\n",
    "work_dir = r'D:\\Documents\\course\\junior\\BigDataAna\\12-20大作业'\n",
    "dataset_dir = work_dir+r'\\datasets'+'\\\\'\n",
    "# print(dataset_dir)\n",
    "\n",
    "# 获取数据集\n",
    "raw_data = pd.read_csv(dataset_dir+'movies.csv')\n",
    "raw_data.info()\n",
    "print(raw_data.head())\n",
    "index2Id = {k:v for k, v in enumerate(raw_data['movieId'])}\n",
    "Id2index = {v:k for k, v in index2Id.items()}"
   ]
  },
  {
   "cell_type": "code",
   "source": [
    "minihash = True\n",
    "genres = raw_data['genres'].values"
   ],
   "metadata": {
    "collapsed": false,
    "pycharm": {
     "name": "#%%\n"
    }
   },
   "execution_count": 16,
   "outputs": []
  },
  {
   "cell_type": "code",
   "execution_count": 17,
   "outputs": [
    {
     "name": "stdout",
     "output_type": "stream",
     "text": [
      "<class 'pandas.core.frame.DataFrame'>\n",
      "RangeIndex: 99904 entries, 0 to 99903\n",
      "Data columns (total 4 columns):\n",
      " #   Column     Non-Null Count  Dtype  \n",
      "---  ------     --------------  -----  \n",
      " 0   userId     99904 non-null  int64  \n",
      " 1   movieId    99904 non-null  int64  \n",
      " 2   rating     99904 non-null  float64\n",
      " 3   timestamp  99904 non-null  int64  \n",
      "dtypes: float64(1), int64(3)\n",
      "memory usage: 3.0 MB\n",
      "<class 'pandas.core.frame.DataFrame'>\n",
      "RangeIndex: 99904 entries, 0 to 99903\n",
      "Data columns (total 3 columns):\n",
      " #   Column   Non-Null Count  Dtype  \n",
      "---  ------   --------------  -----  \n",
      " 0   userId   99904 non-null  int64  \n",
      " 1   movieId  99904 non-null  int64  \n",
      " 2   rating   99904 non-null  float64\n",
      "dtypes: float64(1), int64(2)\n",
      "memory usage: 2.3 MB\n"
     ]
    }
   ],
   "source": [
    "train_data = pd.read_csv(dataset_dir+'train_set.csv')\n",
    "train_data.info()\n",
    "train_data.drop('timestamp', axis=1, inplace=True)\n",
    "train_data.info()"
   ],
   "metadata": {
    "collapsed": false,
    "pycharm": {
     "name": "#%%\n"
    }
   }
  },
  {
   "cell_type": "code",
   "execution_count": 47,
   "outputs": [],
   "source": [
    "proj_func_num = 20\n",
    "mat = train_data.pivot_table(index=['userId'], columns=['movieId'], values=['rating'])\n",
    "mat.fillna(0,inplace=True)\n",
    "util_mat = np.array(mat.values)\n",
    "movie_id2index = {mat.columns[i][1]:i for i in range(util_mat.shape[1])}\n",
    "index2movie_id = {v:k for k,v in movie_id2index.items()}\n",
    "user_num = util_mat.shape[0]\n",
    "movie_num = util_mat.shape[1]"
   ],
   "metadata": {
    "collapsed": false,
    "pycharm": {
     "name": "#%%\n"
    }
   }
  },
  {
   "cell_type": "code",
   "execution_count": 48,
   "outputs": [
    {
     "data": {
      "text/plain": "array([[0.        , 0.41043288, 0.5315272 , ..., 0.        , 0.        ,\n        0.        ],\n       [0.        , 0.510466  , 0.        , ..., 0.        , 0.        ,\n        0.        ],\n       [0.        , 0.        , 0.        , ..., 0.        , 0.        ,\n        0.        ],\n       ...,\n       [0.        , 0.        , 0.        , ..., 0.        , 0.        ,\n        0.        ],\n       [0.        , 0.        , 0.        , ..., 0.        , 0.        ,\n        0.        ],\n       [0.        , 0.        , 0.        , ..., 0.        , 0.        ,\n        0.        ]])"
     },
     "execution_count": 48,
     "metadata": {},
     "output_type": "execute_result"
    }
   ],
   "source": [
    "\n",
    "# 获取tfidf特征矩阵\n",
    "vectorizer = TfidfVectorizer()\n",
    "tfidf_mat = vectorizer.fit_transform(genres).toarray()\n",
    "tfidf_mat"
   ],
   "metadata": {
    "collapsed": false,
    "pycharm": {
     "name": "#%%\n"
    }
   }
  },
  {
   "cell_type": "code",
   "execution_count": 49,
   "outputs": [
    {
     "name": "stdout",
     "output_type": "stream",
     "text": [
      "pai1/20\n",
      "pai2/20\n",
      "pai3/20\n",
      "pai4/20\n",
      "pai5/20\n",
      "pai6/20\n",
      "pai7/20\n",
      "pai8/20\n",
      "pai9/20\n",
      "pai10/20\n",
      "pai11/20\n",
      "pai12/20\n",
      "pai13/20\n",
      "pai14/20\n",
      "pai15/20\n",
      "pai16/20\n",
      "pai17/20\n",
      "pai18/20\n",
      "pai19/20\n",
      "pai20/20\n",
      "calc sim mat\n",
      "sim mat cacl finish\n",
      "use time: 6.487042188644409\n"
     ]
    }
   ],
   "source": [
    "from time import time\n",
    "from scipy.spatial.distance import pdist,squareform\n",
    "start_time = time()\n",
    "if minihash:\n",
    "\n",
    "    # 构建哈希签名矩阵\n",
    "    mini_mat = np.array(tfidf_mat)\n",
    "    mini_mat[mini_mat>0] = 1\n",
    "    mini_mat[mini_mat<=0] = 0\n",
    "    total_movie_num = mini_mat.shape[0]\n",
    "    feature_num = mini_mat.shape[1]\n",
    "    sig_mat = np.zeros((proj_func_num, total_movie_num))\n",
    "    for i in range(proj_func_num):\n",
    "        print(\"pai%d/%d\" % (i+1, proj_func_num))\n",
    "        pai = [j for j in range(feature_num)]\n",
    "        np.random.shuffle(pai)\n",
    "        pai_index = np.argsort(pai)\n",
    "        for j in range(total_movie_num):\n",
    "            for index in pai_index:\n",
    "                if mini_mat[j, pai[index]] == 1:\n",
    "                    sig_mat[i, j] = pai[index]\n",
    "                    break\n",
    "    # 计算jiccard相似度\n",
    "    print('calc sim mat')\n",
    "    sig_mat = sig_mat.T # 用行来算比较快\n",
    "    sim_mat = 1 - squareform(pdist(sig_mat, 'jaccard'))\n",
    "    print('sim mat cacl finish')\n",
    "    sim_mat[np.isnan(sim_mat)] = 0\n",
    "    sim_mat\n",
    "\n",
    "else:\n",
    "    #根据特征矩阵计算相似度矩阵\n",
    "    sim_mat = cosine_similarity(tfidf_mat)\n",
    "    sim_mat[sim_mat<0] = 0\n",
    "\n",
    "end_time = time()\n",
    "print(\"use time:\",end_time-start_time)"
   ],
   "metadata": {
    "collapsed": false,
    "pycharm": {
     "name": "#%%\n"
    }
   }
  },
  {
   "cell_type": "code",
   "execution_count": 38,
   "outputs": [
    {
     "name": "stderr",
     "output_type": "stream",
     "text": [
      "D:\\Programs\\Anaconda\\envs\\pytorch\\lib\\site-packages\\ipykernel_launcher.py:44: RuntimeWarning: invalid value encountered in double_scalars\n"
     ]
    },
    {
     "name": "stdout",
     "output_type": "stream",
     "text": [
      "[ 308 7710  809  818 7427]\n",
      "[5. 5. 5. 5. 5.]\n",
      "[4.3125 4.3125 2.5    ... 0.     4.3125 0.    ]\n"
     ]
    },
    {
     "data": {
      "text/plain": "[343, 84312, 1005, 1014, 74282]"
     },
     "execution_count": 38,
     "metadata": {},
     "output_type": "execute_result"
    }
   ],
   "source": [
    "K = 5\n",
    "n = 5\n",
    "def recommender(mode, userId, util_mat, sim_mat, movie_id):\n",
    "    userId = userId-1  # userID 从1开始，矩阵从0开始\n",
    "    user_num = util_mat.shape[0]\n",
    "    movie_num = util_mat.shape[1]\n",
    "    if mode == 1: # 1为top k推荐 0为预测评分 2为预测单个movie的评分\n",
    "        user_rate = np.zeros(util_mat.shape[1])\n",
    "    else:\n",
    "        user_rate = np.copy(util_mat[userId])\n",
    "\n",
    "    rate_movie_index = []\n",
    "    unrate_movie_index = []\n",
    "    for cur_movie in range(movie_num):\n",
    "        if util_mat[userId, cur_movie] == 0 and mode != 2:\n",
    "            unrate_movie_index.append(cur_movie)\n",
    "        else:\n",
    "            rate_movie_index.append(cur_movie)\n",
    "\n",
    "    if mode == 2:\n",
    "        unrate_movie_index.append(movie_id2index[movie_id])\n",
    "\n",
    "    for cur_movie in unrate_movie_index:\n",
    "        total = 0\n",
    "        pred = 0\n",
    "        for another_movie in rate_movie_index:\n",
    "            another_movie_rate = util_mat[userId, another_movie]\n",
    "            if another_movie_rate != 0:\n",
    "                cur_movie_in_sim_mat = Id2index[index2movie_id[cur_movie]]\n",
    "                another_movie_in_sim_mat = Id2index[index2movie_id[another_movie]]\n",
    "                pred += sim_mat[cur_movie_in_sim_mat, another_movie_in_sim_mat]*another_movie_rate\n",
    "                total += sim_mat[cur_movie_in_sim_mat, another_movie_in_sim_mat]\n",
    "                # if cur_movie == 3303:\n",
    "                # print('pred',pred)\n",
    "                # print('total',total)\n",
    "                # print('cur_movie:', cur_movie)\n",
    "                # print('another user rate:', another_movie_rate)\n",
    "                # print('sim:', sim_mat[cur_movie_in_sim_mat, another_movie_in_sim_mat])\n",
    "        # if cur_movie == 3303:\n",
    "        # print('pred',pred)\n",
    "        # print('total',total)\n",
    "        # print('rate', pred/total)\n",
    "        # print('cur_movie:', cur_movie)\n",
    "        user_rate[cur_movie] = pred/total\n",
    "\n",
    "    if mode == 0 or mode == 2:\n",
    "        # user_rate[np.isnan(user_rate)] = 0\n",
    "        return user_rate\n",
    "    else:\n",
    "        user_rate[np.isnan(user_rate)] = 0\n",
    "        rec_index = np.argsort(user_rate)[-K:]\n",
    "        print(rec_index)\n",
    "        print(user_rate[rec_index])\n",
    "        print(user_rate)\n",
    "        movie_id_list = list(mat.columns)\n",
    "        rec = [movie_id_list[i][1] for i in rec_index]\n",
    "        return rec\n",
    "\n",
    "\n",
    "\n",
    "\n",
    "recommender(1, 600,util_mat, sim_mat,0)"
   ],
   "metadata": {
    "collapsed": false,
    "pycharm": {
     "name": "#%%\n"
    }
   }
  },
  {
   "cell_type": "code",
   "execution_count": 39,
   "outputs": [
    {
     "name": "stdout",
     "output_type": "stream",
     "text": [
      "<class 'pandas.core.frame.DataFrame'>\n",
      "RangeIndex: 100 entries, 0 to 99\n",
      "Data columns (total 3 columns):\n",
      " #   Column   Non-Null Count  Dtype  \n",
      "---  ------   --------------  -----  \n",
      " 0   userId   100 non-null    int64  \n",
      " 1   movieId  100 non-null    int64  \n",
      " 2   rating   100 non-null    float64\n",
      "dtypes: float64(1), int64(2)\n",
      "memory usage: 2.5 KB\n"
     ]
    }
   ],
   "source": [
    "# 读取测试集\n",
    "test = pd.read_csv(dataset_dir+'test_set.csv')\n",
    "test.drop('timestamp', axis=1, inplace=True)\n",
    "users, movies, ratings = test['userId'], test['movieId'], test['rating']\n",
    "test.info()\n"
   ],
   "metadata": {
    "collapsed": false,
    "pycharm": {
     "name": "#%%\n"
    }
   }
  },
  {
   "cell_type": "code",
   "execution_count": 40,
   "outputs": [
    {
     "name": "stdout",
     "output_type": "stream",
     "text": [
      "1/100...\n",
      "2/100...\n",
      "3/100...\n",
      "4/100...\n",
      "5/100...\n",
      "6/100...\n",
      "7/100...\n",
      "8/100...\n",
      "9/100...\n",
      "10/100...\n",
      "11/100...\n",
      "12/100...\n",
      "13/100...\n",
      "14/100...\n",
      "15/100...\n",
      "16/100...\n",
      "17/100...\n",
      "18/100...\n",
      "19/100...\n",
      "20/100...\n",
      "21/100...\n",
      "22/100...\n",
      "23/100...\n",
      "24/100...\n",
      "25/100...\n",
      "26/100...\n",
      "27/100...\n",
      "28/100...\n",
      "29/100...\n",
      "30/100...\n",
      "31/100...\n",
      "32/100...\n",
      "33/100...\n",
      "34/100...\n",
      "35/100...\n",
      "36/100...\n",
      "37/100...\n",
      "38/100...\n",
      "39/100...\n",
      "40/100...\n",
      "41/100...\n",
      "42/100...\n",
      "43/100...\n",
      "44/100...\n",
      "45/100...\n",
      "46/100...\n",
      "47/100...\n",
      "48/100...\n",
      "49/100...\n",
      "50/100...\n",
      "51/100...\n",
      "52/100...\n",
      "53/100...\n",
      "54/100...\n",
      "55/100...\n",
      "56/100...\n",
      "57/100...\n",
      "58/100...\n",
      "59/100...\n",
      "60/100...\n",
      "61/100...\n",
      "62/100...\n",
      "63/100...\n",
      "64/100...\n",
      "65/100...\n",
      "66/100...\n",
      "67/100...\n",
      "68/100...\n",
      "69/100...\n",
      "70/100...\n",
      "71/100...\n",
      "72/100...\n",
      "73/100...\n",
      "74/100...\n",
      "75/100...\n",
      "76/100...\n",
      "77/100...\n",
      "78/100...\n",
      "79/100...\n",
      "80/100...\n",
      "81/100...\n",
      "82/100...\n",
      "83/100...\n",
      "84/100...\n",
      "85/100...\n",
      "86/100...\n",
      "87/100...\n",
      "88/100...\n",
      "89/100...\n",
      "90/100...\n",
      "91/100...\n",
      "92/100...\n",
      "93/100...\n",
      "94/100...\n",
      "95/100...\n",
      "96/100...\n",
      "97/100...\n",
      "98/100...\n",
      "99/100...\n",
      "100/100...\n"
     ]
    },
    {
     "name": "stderr",
     "output_type": "stream",
     "text": [
      "D:\\Programs\\Anaconda\\envs\\pytorch\\lib\\site-packages\\ipykernel_launcher.py:44: RuntimeWarning: invalid value encountered in double_scalars\n"
     ]
    },
    {
     "data": {
      "text/plain": "52.71847575457196"
     },
     "execution_count": 40,
     "metadata": {},
     "output_type": "execute_result"
    }
   ],
   "source": [
    "# 开始预测\n",
    "preds = []\n",
    "pred_cache = {}\n",
    "for i in range(len(test)):\n",
    "    print('%d/%d...' % (i+1, len(test)))\n",
    "    # if users[i] not in pred_cache.keys():\n",
    "    rates = recommender(2, users[i], util_mat, sim_mat, movie_id=movies[i])\n",
    "    preds.append(rates[movie_id2index[movies[i]]])\n",
    "    # pred_cache[users[i]] = rates\n",
    "    # else:\n",
    "    #     rates = pred_cache[users[i]]\n",
    "    #     preds.append(rates[movie_id2index[movies[i]]])\n",
    "\n",
    "SSE = np.sum(np.square(preds - ratings))\n",
    "\n",
    "SSE"
   ],
   "metadata": {
    "collapsed": false,
    "pycharm": {
     "name": "#%%\n"
    }
   }
  },
  {
   "cell_type": "code",
   "execution_count": null,
   "outputs": [],
   "source": [],
   "metadata": {
    "collapsed": false,
    "pycharm": {
     "name": "#%%\n"
    }
   }
  }
 ],
 "metadata": {
  "kernelspec": {
   "name": "conda-env-pytorch-py",
   "language": "python",
   "display_name": "Python [conda env:pytorch]"
  },
  "language_info": {
   "codemirror_mode": {
    "name": "ipython",
    "version": 2
   },
   "file_extension": ".py",
   "mimetype": "text/x-python",
   "name": "python",
   "nbconvert_exporter": "python",
   "pygments_lexer": "ipython2",
   "version": "2.7.6"
  }
 },
 "nbformat": 4,
 "nbformat_minor": 0
}